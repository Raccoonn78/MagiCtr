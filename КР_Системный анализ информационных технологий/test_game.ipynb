{
 "cells": [
  {
   "cell_type": "code",
   "execution_count": 1,
   "metadata": {},
   "outputs": [
    {
     "name": "stdout",
     "output_type": "stream",
     "text": [
      "pygame 2.5.2 (SDL 2.28.3, Python 3.9.13)\n",
      "Hello from the pygame community. https://www.pygame.org/contribute.html\n"
     ]
    }
   ],
   "source": [
    "import pygame as pg\n",
    "from heapq import *\n"
   ]
  },
  {
   "cell_type": "code",
   "execution_count": null,
   "metadata": {},
   "outputs": [],
   "source": []
  },
  {
   "cell_type": "code",
   "execution_count": 9,
   "metadata": {},
   "outputs": [
    {
     "data": {
      "text/plain": [
       "[[1, 1, 2, 2, 3, 3, 5, 5, 5, 5],\n",
       " [1, 1, 2, 2, 3, 3, 5, 5, 5, 5],\n",
       " [2, 2, 3, 3, 4, 4, 5, 5, 2, 2],\n",
       " [2, 2, 3, 3, 4, 4, 5, 5, 2, 2],\n",
       " [6, 6, 7, 7, 8, 8, 9, 9, 9, 9],\n",
       " [6, 6, 7, 7, 8, 8, 9, 9, 9, 9]]"
      ]
     },
     "execution_count": 9,
     "metadata": {},
     "output_type": "execute_result"
    }
   ],
   "source": [
    "a= [[1,2,3,5,5], \n",
    "    [2,3,4,5,2], \n",
    "    [6,7,8,9,9]]\n",
    "b=[]\n",
    "for number, i in enumerate(a,1):\n",
    "    for j in range(2):\n",
    "        temp_2=[]\n",
    "        for i,j in zip(a[number-1],a[number-1]):\n",
    "            temp_2.append(i)\n",
    "            temp_2.append(j)\n",
    "        b.append(temp_2)\n",
    "        \n",
    "\n",
    "b"
   ]
  },
  {
   "cell_type": "code",
   "execution_count": null,
   "metadata": {},
   "outputs": [],
   "source": []
  },
  {
   "cell_type": "code",
   "execution_count": null,
   "metadata": {},
   "outputs": [],
   "source": []
  }
 ],
 "metadata": {
  "kernelspec": {
   "display_name": "Python 3",
   "language": "python",
   "name": "python3"
  },
  "language_info": {
   "codemirror_mode": {
    "name": "ipython",
    "version": 3
   },
   "file_extension": ".py",
   "mimetype": "text/x-python",
   "name": "python",
   "nbconvert_exporter": "python",
   "pygments_lexer": "ipython3",
   "version": "3.10.11"
  }
 },
 "nbformat": 4,
 "nbformat_minor": 2
}
