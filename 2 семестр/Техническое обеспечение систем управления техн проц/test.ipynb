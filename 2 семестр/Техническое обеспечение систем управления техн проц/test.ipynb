{
 "cells": [
  {
   "cell_type": "code",
   "execution_count": null,
   "metadata": {},
   "outputs": [],
   "source": []
  },
  {
   "cell_type": "code",
   "execution_count": 1,
   "metadata": {},
   "outputs": [],
   "source": [
    "import time"
   ]
  },
  {
   "cell_type": "code",
   "execution_count": 22,
   "metadata": {},
   "outputs": [
    {
     "data": {
      "text/plain": [
       "(0, 2)"
      ]
     },
     "execution_count": 22,
     "metadata": {},
     "output_type": "execute_result"
    }
   ],
   "source": [
    "import struct\n",
    "\n",
    "\n",
    "# struct.pack('>B', b'1212')\n",
    "request = struct.pack('>BBHHHH', 0, 2, 0, 10071, 1, 1)\n",
    "request\n",
    "struct.unpack('>BB', request[:2])"
   ]
  },
  {
   "cell_type": "code",
   "execution_count": 35,
   "metadata": {},
   "outputs": [
    {
     "name": "stdout",
     "output_type": "stream",
     "text": [
      "mbap_header  b'\\x00\\x01\\x00\\x00\\x00\\x06\\x01'\n",
      "pdu  b\"\\x02'V\\x00\\x01\"\n",
      "len(mbap_header)  12\n",
      "2\n",
      "1 0 6 1\n"
     ]
    },
    {
     "data": {
      "text/plain": [
       "2"
      ]
     },
     "execution_count": 35,
     "metadata": {},
     "output_type": "execute_result"
    }
   ],
   "source": [
    "# Формирование MBAP заголовка\n",
    "transaction_id = 1  # Уникальный идентификатор транзакции\n",
    "protocol_id = 0     # Идентификатор протокола (всегда 0 для Modbus TCP)\n",
    "length = 6          # Длина PDU + Unit Identifier\n",
    "unit_id = 1         # Идентификатор устройства\n",
    "\n",
    "mbap_header = struct.pack('>HHHB', transaction_id, protocol_id, length, unit_id)\n",
    "print('mbap_header ',mbap_header)\n",
    "# Формирование PDU\n",
    "function_code = 2  # Функция чтения дискретных входов\n",
    "starting_address = 10070  # Адрес 10071 в Modbus адресации\n",
    "quantity_of_inputs = 1  # Количество дискретных входов для чтения\n",
    "\n",
    "pdu = struct.pack('>BHH', function_code, starting_address, quantity_of_inputs)\n",
    "print('pdu ', pdu)\n",
    "request = mbap_header + pdu\n",
    "# function_code = struct.unpack('>H', mbap_header[7:9])[0]\n",
    "# struct.unpack('>H', mbap_header[7:9])[0]\n",
    "transaction_id, protocol_id, length, unit_id = struct.unpack('>HHHB', request[:7])\n",
    "print('len(mbap_header) ', len(request))\n",
    "print(request[7:8][0])\n",
    "print(transaction_id, protocol_id, length, unit_id)\n",
    "# Распаковка PDU\n",
    "function_code = struct.unpack('B', request[7:8])[0]\n",
    "function_code"
   ]
  },
  {
   "cell_type": "code",
   "execution_count": 52,
   "metadata": {},
   "outputs": [
    {
     "data": {
      "text/plain": [
       "(0, 1)"
      ]
     },
     "execution_count": 52,
     "metadata": {},
     "output_type": "execute_result"
    }
   ],
   "source": [
    "transaction_id=   1\n",
    "protocol_id =   0\n",
    "byte_count  =  4 -3\n",
    "unit_id= 1\n",
    "function_code=2\n",
    "byte_count  = 1\n",
    "\n",
    "response = struct.pack('>HHHBB',  protocol_id, byte_count + 3, unit_id, function_code, byte_count)\n",
    "response             \n",
    "response2 = struct.pack('>HHHBB', transaction_id,  protocol_id, byte_count + 3, unit_id, function_code)\n",
    "response2    \n",
    "response==response                 \n",
    "header = struct.unpack('>BB', response2[:2])\n",
    "header"
   ]
  }
 ],
 "metadata": {
  "kernelspec": {
   "display_name": "Python 3",
   "language": "python",
   "name": "python3"
  },
  "language_info": {
   "codemirror_mode": {
    "name": "ipython",
    "version": 3
   },
   "file_extension": ".py",
   "mimetype": "text/x-python",
   "name": "python",
   "nbconvert_exporter": "python",
   "pygments_lexer": "ipython3",
   "version": "3.9.13"
  }
 },
 "nbformat": 4,
 "nbformat_minor": 2
}
