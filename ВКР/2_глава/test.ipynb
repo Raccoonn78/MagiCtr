{
 "cells": [
  {
   "cell_type": "code",
   "execution_count": null,
   "id": "81d81ae6",
   "metadata": {},
   "outputs": [],
   "source": [
    "import pandas as pd \n",
    "nodes_df_list_test=[{'index': {0: 0, 1: 1, 2: 2, 3: 3, 4: 4, 5: 5, 6: 6, 7: 7, 8: 8, 9: 9, 10: 10}, 'axis': {0: 0, 1: 0, 2: 0, 3: 0, 4: 0, 5: 0, 6: 0, 7: 0, 8: 0, 9: 0, 10: 0}, 'level': {0: 0, 1: 3, 2: 3, 3: 3, 4: 2, 5: 3, 6: 3, 7: 3, 8: 2, 9: 1, 10: 3}, 'name': {0: None, 1: 'x31', 2: 'x32', 3: 'x33', 4: 'x21', 5: 'x34', 6: 'x35', 7: 'x36', 8: 'x22', 9: 'x1', 10: 'x33'}, 'x_3': {0: nan, 1: 'x31', 2: 'x32', 3: 'x33', 4: nan, 5: 'x34', 6: 'x35', 7: 'x36', 8: nan, 9: nan, 10: 'x33'}, 'x_2': {0: nan, 1: 'x21', 2: 'x21', 3: 'x21', 4: 'x21', 5: 'x22', 6: 'x22', 7: 'x22', 8: 'x22', 9: nan, 10: 'x22'}, 'x_1': {0: nan, 1: 'x1', 2: 'x1', 3: 'x1', 4: 'x1', 5: 'x1', 6: 'x1', 7: 'x1', 8: 'x1', 9: 'x1', 10: 'x1'}}, {'index': {0: 0, 1: 1, 2: 2, 3: 3, 4: 4, 5: 5, 6: 6, 7: 7, 8: 8, 9: 9, 10: 10}, 'axis': {0: 1, 1: 1, 2: 1, 3: 1, 4: 1, 5: 1, 6: 1, 7: 1, 8: 1, 9: 1, 10: 1}, 'level': {0: 0, 1: 3, 2: 3, 3: 3, 4: 2, 5: 3, 6: 3, 7: 3, 8: 2, 9: 1, 10: 3}, 'name': {0: None, 1: 'y31', 2: 'y32', 3: 'y33', 4: 'y21', 5: 'y34', 6: 'y35', 7: 'y36', 8: 'y22', 9: 'y1', 10: 'y33'}, 'y_3': {0: nan, 1: 'y31', 2: 'y32', 3: 'y33', 4: nan, 5: 'y34', 6: 'y35', 7: 'y36', 8: nan, 9: nan, 10: 'y33'}, 'y_2': {0: nan, 1: 'y21', 2: 'y21', 3: 'y21', 4: 'y21', 5: 'y22', 6: 'y22', 7: 'y22', 8: 'y22', 9: nan, 10: 'y22'}, 'y_1': {0: nan, 1: 'y1', 2: 'y1', 3: 'y1', 4: 'y1', 5: 'y1', 6: 'y1', 7: 'y1', 8: 'y1', 9: 'y1', 10: 'y1'}}, {'index': {22: 0, 23: 1}, 'axis': {22: 2, 23: 2}, 'level': {22: 0, 23: 1}, 'name': {22: None, 23: 'Значения'}, 'Столбец данных': {22: nan, 23: 'Значения'}}]\n",
    "\n",
    "edges_df_list_test= [{'from': {0: 0, 1: 4, 2: 4, 3: 4, 4: 8, 5: 8, 6: 8, 7: 8, 8: 9, 9: 9}, 'to': {0: 9, 1: 1, 2: 2, 3: 3, 4: 5, 5: 6, 6: 7, 7: 10, 8: 4, 9: 8}, 'axis': {0: 0, 1: 0, 2: 0, 3: 0, 4: 0, 5: 0, 6: 0, 7: 0, 8: 0, 9: 0}}, {'from': {10: 0, 11: 4, 12: 4, 13: 4, 14: 8, 15: 8, 16: 8, 17: 8, 18: 9, 19: 9}, 'to': {10: 9, 11: 1, 12: 2, 13: 3, 14: 5, 15: 6, 16: 7, 17: 10, 18: 4, 19: 8}, 'axis': {10: 1, 11: 1, 12: 1, 13: 1, 14: 1, 15: 1, 16: 1, 17: 1, 18: 1, 19: 1}}, {'from': {0: 0}, 'to': {0: 1}, 'axis': {0: 2}}]\n",
    "edges_df_list = []\n",
    "for edge_dict in edges_df_list_test:\n",
    "    df = pd.DataFrame(edge_dict)\n",
    "    edges_df_list.append(df)\n",
    "\n",
    "nodes_df_list = []\n",
    "for edge_dict in nodes_df_list_test:\n",
    "    df = pd.DataFrame(edge_dict)\n",
    "    nodes_df_list.append(df)"
   ]
  },
  {
   "cell_type": "code",
   "execution_count": null,
   "id": "37afad9f",
   "metadata": {},
   "outputs": [
    {
     "data": {
      "text/plain": [
       "[   from  to  axis\n",
       " 0     0   9     0\n",
       " 1     4   1     0\n",
       " 2     4   2     0\n",
       " 3     4   3     0\n",
       " 4     8   5     0\n",
       " 5     8   6     0\n",
       " 6     8   7     0\n",
       " 7     8  10     0\n",
       " 8     9   4     0\n",
       " 9     9   8     0,\n",
       "     from  to  axis\n",
       " 10     0   9     1\n",
       " 11     4   1     1\n",
       " 12     4   2     1\n",
       " 13     4   3     1\n",
       " 14     8   5     1\n",
       " 15     8   6     1\n",
       " 16     8   7     1\n",
       " 17     8  10     1\n",
       " 18     9   4     1\n",
       " 19     9   8     1,\n",
       "    from  to  axis\n",
       " 0     0   1     2]"
      ]
     },
     "execution_count": 3,
     "metadata": {},
     "output_type": "execute_result"
    }
   ],
   "source": [
    "edges_df_list = []\n",
    "for edge_dict in edges_df_list_test:\n",
    "    df = pd.DataFrame(edge_dict)\n",
    "    edges_df_list.append(df)\n",
    "\n",
    "nodes_df_list = []\n",
    "for edge_dict in nodes_df_list_test:\n",
    "    df = pd.DataFrame(edge_dict)\n",
    "    nodes_df_list.append(df)"
   ]
  },
  {
   "cell_type": "code",
   "execution_count": null,
   "id": "b682cf01",
   "metadata": {},
   "outputs": [],
   "source": []
  }
 ],
 "metadata": {
  "kernelspec": {
   "display_name": "Python 3",
   "language": "python",
   "name": "python3"
  },
  "language_info": {
   "codemirror_mode": {
    "name": "ipython",
    "version": 3
   },
   "file_extension": ".py",
   "mimetype": "text/x-python",
   "name": "python",
   "nbconvert_exporter": "python",
   "pygments_lexer": "ipython3",
   "version": "3.10.11"
  }
 },
 "nbformat": 4,
 "nbformat_minor": 5
}
