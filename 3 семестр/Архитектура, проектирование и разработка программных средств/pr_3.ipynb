{
 "cells": [
  {
   "cell_type": "code",
   "execution_count": null,
   "metadata": {},
   "outputs": [],
   "source": []
  },
  {
   "cell_type": "markdown",
   "metadata": {},
   "source": [
    "### Strategy\n",
    "##### Strategy — это поведенческий паттерн, который определяет семейство алгоритмов, инкапсулирует каждый из них и делает их взаимозаменяемыми. Это позволяет выбирать алгоритм независимо от клиентского кода.\n",
    "\n"
   ]
  },
  {
   "cell_type": "code",
   "execution_count": 9,
   "metadata": {},
   "outputs": [
    {
     "name": "stdout",
     "output_type": "stream",
     "text": [
      "[1, 2, 3, 4, 5, 6]\n",
      "[6, 5, 4, 3, 2, 1]\n"
     ]
    }
   ],
   "source": [
    "from abc import ABC, abstractmethod\n",
    " \n",
    "class Strategy(ABC):\n",
    "    @abstractmethod\n",
    "    def execute(self, data):\n",
    "        print('data ',data)\n",
    "        pass\n",
    " \n",
    "class ConcreteStrategyA(Strategy):\n",
    "    def execute(self, data):\n",
    "        return sorted(data)\n",
    " \n",
    "class ConcreteStrategyB(Strategy):\n",
    "    def execute(self, data):\n",
    "        return list(reversed(sorted(data)))\n",
    " \n",
    "class Context:\n",
    "    def __init__(self, strategy: Strategy):\n",
    "        self._strategy = strategy\n",
    " \n",
    "    def set_strategy(self, strategy: Strategy):\n",
    "        self._strategy = strategy\n",
    " \n",
    "    def execute_strategy(self, data):\n",
    "        return self._strategy.execute(data)\n",
    " \n",
    "data = [1, 2, 3, 6,4, 5]\n",
    " \n",
    "context = Context(ConcreteStrategyA())\n",
    "print(context.execute_strategy(data))  # Вывод: [1, 2, 3, 4, 5]\n",
    " \n",
    "context.set_strategy(ConcreteStrategyB())\n",
    "print(context.execute_strategy(data))  # Вывод: [5, 4, 3, 2, 1]\n"
   ]
  },
  {
   "cell_type": "code",
   "execution_count": 6,
   "metadata": {},
   "outputs": [
    {
     "data": {
      "text/plain": [
       "[6, 5, 4, 3, 2, 1]"
      ]
     },
     "execution_count": 6,
     "metadata": {},
     "output_type": "execute_result"
    }
   ],
   "source": [
    "sorted(data)\n",
    "list(reversed(sorted(data)))"
   ]
  }
 ],
 "metadata": {
  "kernelspec": {
   "display_name": "Python 3",
   "language": "python",
   "name": "python3"
  },
  "language_info": {
   "codemirror_mode": {
    "name": "ipython",
    "version": 3
   },
   "file_extension": ".py",
   "mimetype": "text/x-python",
   "name": "python",
   "nbconvert_exporter": "python",
   "pygments_lexer": "ipython3",
   "version": "3.10.11"
  }
 },
 "nbformat": 4,
 "nbformat_minor": 2
}
