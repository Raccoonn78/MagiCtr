{
 "cells": [
  {
   "cell_type": "code",
   "execution_count": null,
   "metadata": {},
   "outputs": [],
   "source": [
    "type((1,))\n",
    "a = (1,)\n",
    "type(a)\n"
   ]
  },
  {
   "cell_type": "code",
   "execution_count": 2,
   "metadata": {},
   "outputs": [],
   "source": [
    "%load_ext pyinstrument"
   ]
  },
  {
   "cell_type": "code",
   "execution_count": null,
   "metadata": {},
   "outputs": [],
   "source": [
    "%%pyinstrument\n",
    "import time\n",
    "\n",
    "def a():\n",
    "    b()\n",
    "    c()\n",
    "def b():\n",
    "    d()\n",
    "def c():\n",
    "    d()\n",
    "def d():\n",
    "    e()\n",
    "def e():\n",
    "    time.sleep(1)\n",
    "    e()\n",
    "a()"
   ]
  },
  {
   "cell_type": "code",
   "execution_count": null,
   "metadata": {},
   "outputs": [],
   "source": []
  },
  {
   "cell_type": "code",
   "execution_count": null,
   "metadata": {},
   "outputs": [],
   "source": [
    "from pyinstrument import Profiler\n",
    "import time\n",
    "\n",
    "def a():\n",
    "    b()\n",
    "    c()\n",
    "\n",
    "def b():\n",
    "    d()\n",
    "\n",
    "def c():\n",
    "    d()\n",
    "\n",
    "def d():\n",
    "    e()\n",
    "\n",
    "def e():\n",
    "    time.sleep(1)\n",
    "    e()\n",
    "\n",
    "profiler = Profiler()\n",
    "profiler.start()\n",
    "\n",
    "a()\n",
    "\n",
    "profiler.stop()\n",
    "print(profiler.output_text(unicode=True, color=True))\n"
   ]
  },
  {
   "cell_type": "code",
   "execution_count": 2,
   "metadata": {},
   "outputs": [
    {
     "name": "stdout",
     "output_type": "stream",
     "text": [
      "Клиентов нет, парикмахер отдыхает.\n"
     ]
    },
    {
     "name": "stderr",
     "output_type": "stream",
     "text": [
      "Exception in thread Thread-8 (client_generator):\n",
      "Traceback (most recent call last):\n",
      "  File \"C:\\Program Files\\WindowsApps\\PythonSoftwareFoundation.Python.3.10_3.10.3056.0_x64__qbz5n2kfra8p0\\lib\\threading.py\", line 1016, in _bootstrap_inner\n",
      "    self.run()\n",
      "  File \"C:\\Program Files\\WindowsApps\\PythonSoftwareFoundation.Python.3.10_3.10.3056.0_x64__qbz5n2kfra8p0\\lib\\threading.py\", line 953, in run\n",
      "    self._target(*self._args, **self._kwargs)\n",
      "  File \"C:\\Users\\Дмитрий\\AppData\\Local\\Temp\\ipykernel_10824\\1155672995.py\", line 62, in client_generator\n",
      "NameError: name 'stop_threads' is not defined\n",
      "Exception in thread Thread-7 (cut_hair):\n",
      "Traceback (most recent call last):\n",
      "  File \"C:\\Program Files\\WindowsApps\\PythonSoftwareFoundation.Python.3.10_3.10.3056.0_x64__qbz5n2kfra8p0\\lib\\threading.py\", line 1016, in _bootstrap_inner\n",
      "    self.run()\n",
      "  File \"C:\\Program Files\\WindowsApps\\PythonSoftwareFoundation.Python.3.10_3.10.3056.0_x64__qbz5n2kfra8p0\\lib\\threading.py\", line 953, in run\n",
      "    self._target(*self._args, **self._kwargs)\n",
      "  File \"C:\\Users\\Дмитрий\\AppData\\Local\\Temp\\ipykernel_10824\\1155672995.py\", line 31, in cut_hair\n",
      "NameError: name 'stop_threads' is not defined\n"
     ]
    },
    {
     "name": "stdout",
     "output_type": "stream",
     "text": [
      "Клиент 1 вошел в парикмахерскую.\n",
      "пидорас закрыт\n",
      "Парикмахерская закрыта.\n"
     ]
    },
    {
     "ename": "SystemExit",
     "evalue": "",
     "output_type": "error",
     "traceback": [
      "An exception has occurred, use %tb to see the full traceback.\n",
      "\u001b[1;31mSystemExit\u001b[0m\n"
     ]
    }
   ],
   "source": [
    "import threading\n",
    "import time\n",
    "import random\n",
    "import sys\n",
    "\n",
    "class Client:\n",
    "    def __init__(self, id):\n",
    "        self.id = id\n",
    "\n",
    "    def __str__(self):\n",
    "        return f\"Клиент {self.id}\"\n",
    "\n",
    "class Barber:\n",
    "    def __init__(self, shop):\n",
    "        self.shop = shop\n",
    "        self.is_cutting = False\n",
    "\n",
    "    def cut_hair(self):\n",
    "        while True:\n",
    "            client = self.shop.get_next_client()\n",
    "            if client:\n",
    "                print(f\"{client} стрижется.\")\n",
    "                self.is_cutting = True\n",
    "                time.sleep(random.uniform(1, 3))  # Симуляция времени стрижки\n",
    "                print(f\"{client} закончил стрижку.\")\n",
    "                self.is_cutting = False\n",
    "            else:\n",
    "                print(\"Клиентов нет, парикмахер отдыхает.\")\n",
    "                time.sleep(1)  # Парикмахер ждет нового клиента\n",
    "            global stop_threads\n",
    "            if stop_threads:\n",
    "                break\n",
    "\n",
    "class Barbershop:\n",
    "    def __init__(self, max_clients):\n",
    "        self.clients = []\n",
    "        self.max_clients = max_clients\n",
    "        self.lock = threading.Lock()\n",
    "\n",
    "    def add_client(self, client):\n",
    "        with self.lock:\n",
    "            assert len(self.clients) >= 0, \"Очередь клиентов не может быть отрицательной.\" # добавление контракта\n",
    "            if len(self.clients) < self.max_clients: \n",
    "                self.clients.append(client)\n",
    "                print(f\"{client} вошел в парикмахерскую.\")\n",
    "            else:\n",
    "                print(f\"{client} ушел, потому что парикмахерская переполнена.\")\n",
    "\n",
    "    def get_next_client(self):\n",
    "        with self.lock:\n",
    "            if self.clients:\n",
    "                return self.clients.pop(0)\n",
    "            return None\n",
    "\n",
    "def client_generator(shop):\n",
    "    client_id = 1\n",
    "    while True :\n",
    "        time.sleep(random.uniform(0.5, 2))  # Симуляция времени прихода нового клиента\n",
    "        client = Client(client_id)\n",
    "        shop.add_client(client)\n",
    "        client_id += 1\n",
    "        global stop_threads\n",
    "        if stop_threads:\n",
    "            break\n",
    "\n",
    "def main():\n",
    "    stop_threads = False\n",
    "    shop = Barbershop(max_clients=3)\n",
    "    barber = Barber(shop)\n",
    "\n",
    "    # Запуск потоков для парикмахера и клиентов\n",
    "    barber_thread = threading.Thread(target=barber.cut_hair)\n",
    "    client_thread = threading.Thread(target=client_generator, args=(shop,))\n",
    "\n",
    "    barber_thread.start()\n",
    "    client_thread.start()\n",
    "\n",
    "    # Приложение будет работать в течение 20 секунд, затем завершится\n",
    "    time.sleep(3)\n",
    "    stop_threads = True\n",
    "    print('пидорас закрыт')\n",
    "\n",
    "    # barber_thread.raise_exception()\n",
    "    # barber_thread.join()\n",
    "    # # client_thread.raise_exception()\n",
    "    # client_thread.join()\n",
    "    print(\"Парикмахерская закрыта.\")\n",
    "    \n",
    "    sys.exit()\n",
    "\n",
    "if __name__ == \"__main__\":\n",
    "    main()\n"
   ]
  },
  {
   "cell_type": "code",
   "execution_count": null,
   "metadata": {},
   "outputs": [],
   "source": []
  }
 ],
 "metadata": {
  "kernelspec": {
   "display_name": "Python 3",
   "language": "python",
   "name": "python3"
  },
  "language_info": {
   "codemirror_mode": {
    "name": "ipython",
    "version": 3
   },
   "file_extension": ".py",
   "mimetype": "text/x-python",
   "name": "python",
   "nbconvert_exporter": "python",
   "pygments_lexer": "ipython3",
   "version": "3.10.11"
  }
 },
 "nbformat": 4,
 "nbformat_minor": 2
}
