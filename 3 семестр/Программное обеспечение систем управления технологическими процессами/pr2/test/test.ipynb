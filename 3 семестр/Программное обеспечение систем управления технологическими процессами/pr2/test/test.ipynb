{
 "cells": [
  {
   "cell_type": "code",
   "execution_count": 4,
   "metadata": {},
   "outputs": [
    {
     "name": "stdout",
     "output_type": "stream",
     "text": [
      "(1, 2, 3, 4)\n"
     ]
    }
   ],
   "source": [
    "def a(a, args):\n",
    "\n",
    "    print(args)\n",
    "\n",
    "a(1,(1,2,3,4))\n",
    "\\x1b[31m\n"
   ]
  },
  {
   "cell_type": "code",
   "execution_count": 7,
   "metadata": {},
   "outputs": [
    {
     "name": "stdout",
     "output_type": "stream",
     "text": [
      "[18/Nov/2024 00:13:24] INFO - \u001b[32mПривет\n"
     ]
    }
   ],
   "source": [
    "from logger import logger\n",
    "\n",
    "logger.info('\\x1b[32mПривет')"
   ]
  },
  {
   "cell_type": "code",
   "execution_count": 3,
   "metadata": {},
   "outputs": [
    {
     "name": "stdout",
     "output_type": "stream",
     "text": [
      "2110\n",
      "2752\n",
      "4358\n",
      "5350\n",
      "6996\n",
      "7060\n"
     ]
    },
    {
     "data": {
      "text/plain": [
       "7134"
      ]
     },
     "execution_count": 3,
     "metadata": {},
     "output_type": "execute_result"
    }
   ],
   "source": [
    "a=478+1632\n",
    "print(a)\n",
    "b=a+642\n",
    "print(b)\n",
    "c=b+1606\n",
    "print(c)\n",
    "d=c+992\n",
    "print(d)\n",
    "e=d+1646\n",
    "print(e)\n",
    "f=e+64\n",
    "print(f)\n",
    "g=f+74\n",
    "g"
   ]
  },
  {
   "cell_type": "code",
   "execution_count": 19,
   "metadata": {},
   "outputs": [
    {
     "name": "stdout",
     "output_type": "stream",
     "text": [
      "|| Кол-во ХВС:8 кб                              || Тариф: 59.8 Начисленно: 478.4      ||\n",
      "|| Кол-во ГВС:6 кб                              || Тариф: 272.14 Начисленно: 1632.84  ||\n",
      "|| Кол-во ВОДООТВОД:14                          || Тариф: 45.91 Начисленно: 642.74    ||\n",
      "|| Кол-во ОТОП осно пл: 0.499                   || Тариф: 3217 Начисленно: 1605.283   ||\n",
      "|| Кол-во взнос на кап ремонт сод жил пом: 38.8 || Тариф: 42.45 Начисленно: 1647.06   ||\n",
      "|| Кол-во запирающее устр: 1шт                  || Тариф: 64 Начисленно: 64           ||\n",
      "|| Кол-во газ: 8.3                              || Тариф: 9 Начисленно: 74.7          ||\n",
      "|| Итого: 7134  ебатьдохуя                      ||                                    ||\n"
     ]
    }
   ],
   "source": [
    "print(f'|| Кол-во ХВС:8 кб                              || Тариф: 59.8 Начисленно: {8*59.8}      ||')\n",
    "print(f'|| Кол-во ГВС:6 кб                              || Тариф: 272.14 Начисленно: {6*272.14}  ||')\n",
    "print(f'|| Кол-во ВОДООТВОД:14                          || Тариф: 45.91 Начисленно: {14*45.91}    ||')\n",
    "print(f'|| Кол-во ОТОП осно пл: 0.499                   || Тариф: 3217 Начисленно: {0.499*3217}   ||')\n",
    "print(f'|| Кол-во взнос на кап ремонт сод жил пом: 38.8 || Тариф: 42.45 Начисленно: {38.8*42.45}   ||')\n",
    "print(f'|| Кол-во запирающее устр: 1шт                  || Тариф: 64 Начисленно: {1*64}           ||')\n",
    "print(f'|| Кол-во газ: 8.3                              || Тариф: 9 Начисленно: {8.3*9}          ||')\n",
    "print(f'|| Итого: 7134  ебатьдохуя                      ||                                    ||')"
   ]
  }
 ],
 "metadata": {
  "kernelspec": {
   "display_name": "Python 3",
   "language": "python",
   "name": "python3"
  },
  "language_info": {
   "codemirror_mode": {
    "name": "ipython",
    "version": 3
   },
   "file_extension": ".py",
   "mimetype": "text/x-python",
   "name": "python",
   "nbconvert_exporter": "python",
   "pygments_lexer": "ipython3",
   "version": "3.10.11"
  }
 },
 "nbformat": 4,
 "nbformat_minor": 2
}
